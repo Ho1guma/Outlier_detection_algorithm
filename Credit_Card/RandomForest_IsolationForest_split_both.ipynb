{
 "cells": [
  {
   "cell_type": "code",
   "execution_count": 1,
   "metadata": {},
   "outputs": [
    {
     "name": "stdout",
     "output_type": "stream",
     "text": [
      "importing Jupyter notebook from preprocessing.ipynb\n"
     ]
    }
   ],
   "source": [
    "import tensorflow as tf\n",
    "import numpy as np\n",
    "import pandas as pd\n",
    "import matplotlib.pyplot as plt\n",
    "import import_ipynb\n",
    "import preprocessing\n",
    "from sklearn.ensemble import IsolationForest\n",
    "import seaborn as sns\n",
    "from sklearn.decomposition import PCA\n",
    "from sklearn.preprocessing import StandardScaler\n",
    "from mpl_toolkits.mplot3d import Axes3D"
   ]
  },
  {
   "cell_type": "code",
   "execution_count": 2,
   "metadata": {},
   "outputs": [],
   "source": [
    "data=preprocessing.df"
   ]
  },
  {
   "cell_type": "code",
   "execution_count": 3,
   "metadata": {},
   "outputs": [
    {
     "data": {
      "text/plain": [
       "(247302, 30)"
      ]
     },
     "execution_count": 3,
     "metadata": {},
     "output_type": "execute_result"
    }
   ],
   "source": [
    "data.shape"
   ]
  },
  {
   "cell_type": "code",
   "execution_count": 4,
   "metadata": {},
   "outputs": [],
   "source": [
    "normal=data[data['Class']==0]\n",
    "fraud=data[data['Class']==1]"
   ]
  },
  {
   "cell_type": "code",
   "execution_count": 5,
   "metadata": {},
   "outputs": [],
   "source": [
    "normal=normal.drop(['Class'],axis=1)\n",
    "fraud=fraud.drop(['Class'],axis=1)"
   ]
  },
  {
   "cell_type": "code",
   "execution_count": 6,
   "metadata": {},
   "outputs": [
    {
     "name": "stdout",
     "output_type": "stream",
     "text": [
      "(246853, 29) (449, 29)\n"
     ]
    }
   ],
   "source": [
    "print(normal.shape, fraud.shape)"
   ]
  },
  {
   "cell_type": "code",
   "execution_count": 7,
   "metadata": {},
   "outputs": [],
   "source": [
    "iforest = IsolationForest(n_estimators=100, max_samples=len(normal), \n",
    "                          contamination=0.0005, max_features=1.0, \n",
    "                          bootstrap=False, n_jobs=-1, random_state=1)"
   ]
  },
  {
   "cell_type": "code",
   "execution_count": 8,
   "metadata": {},
   "outputs": [],
   "source": [
    "iforest_f = IsolationForest(n_estimators=100, max_samples=len(normal), \n",
    "                          contamination=0.0005, max_features=1.0, \n",
    "                          bootstrap=False, n_jobs=-1, random_state=1)\n",
    "#0.0005 0.78\n",
    "#0.001 0.73"
   ]
  },
  {
   "cell_type": "code",
   "execution_count": 9,
   "metadata": {},
   "outputs": [
    {
     "name": "stderr",
     "output_type": "stream",
     "text": [
      "/home/sumin816/anaconda3/envs/test/lib/python3.7/site-packages/sklearn/ensemble/_iforest.py:266: UserWarning: max_samples (246853) is greater than the total number of samples (449). max_samples will be set to n_samples for estimation.\n",
      "  % (self.max_samples, n_samples))\n"
     ]
    }
   ],
   "source": [
    "normal_pred = iforest.fit_predict(normal)\n",
    "fraud_pred = iforest_f.fit_predict(fraud)"
   ]
  },
  {
   "cell_type": "code",
   "execution_count": 10,
   "metadata": {},
   "outputs": [
    {
     "name": "stdout",
     "output_type": "stream",
     "text": [
      " 1    246729\n",
      "-1       124\n",
      "Name: anomaly, dtype: int64\n"
     ]
    }
   ],
   "source": [
    "normal['anomaly']=normal_pred\n",
    "normal_outliers=normal.loc[normal['anomaly']==-1]\n",
    "normal_outlier_index=list(normal_outliers.index)\n",
    "print(normal['anomaly'].value_counts())\n",
    "normal=normal.drop(['anomaly'],axis=1)"
   ]
  },
  {
   "cell_type": "code",
   "execution_count": 11,
   "metadata": {},
   "outputs": [
    {
     "name": "stdout",
     "output_type": "stream",
     "text": [
      " 1    448\n",
      "-1      1\n",
      "Name: anomaly, dtype: int64\n"
     ]
    }
   ],
   "source": [
    "fraud['anomaly']=fraud_pred\n",
    "fraud_outliers=fraud.loc[fraud['anomaly']==-1]\n",
    "fraud_outlier_index=list(fraud_outliers.index)\n",
    "print(fraud['anomaly'].value_counts())\n",
    "fraud=fraud.drop(['anomaly'],axis=1)"
   ]
  },
  {
   "cell_type": "code",
   "execution_count": 12,
   "metadata": {},
   "outputs": [],
   "source": [
    "def pca_3d(X_data,outlier_index):\n",
    "    pca = PCA(n_components=3) \n",
    "    scaler = StandardScaler()\n",
    "\n",
    "    X = scaler.fit_transform(X_data)\n",
    "    X_reduce = pca.fit_transform(X)\n",
    "    fig = plt.figure()\n",
    "    ax = fig.add_subplot(111, projection='3d')\n",
    "    ax.set_zlabel(\"x_composite_3\")\n",
    "\n",
    "    ax.scatter(X_reduce[:, 0], X_reduce[:, 1], zs=X_reduce[:, 2], s=4, lw=1, label=\"inliers\",c=\"green\")\n",
    "\n",
    "    ax.scatter(X_reduce[outlier_index,0],X_reduce[outlier_index,1], X_reduce[outlier_index,2],\n",
    "           lw=2, s=60, marker=\"x\", c=\"red\", label=\"outliers\")\n",
    "    ax.legend()\n",
    "    plt.show()\n"
   ]
  },
  {
   "cell_type": "code",
   "execution_count": 13,
   "metadata": {},
   "outputs": [],
   "source": [
    "def pca_2d(X_data,outlier_index):\n",
    "    pca = PCA(2)\n",
    "    pca.fit(X_data)\n",
    "    res=pd.DataFrame(pca.transform(X_data))\n",
    "    Z = np.array(res)\n",
    "    plt.title(\"IsolationForest\")\n",
    "\n",
    "    b1 = plt.scatter(res[0], res[1], c='green',\n",
    "                 s=20,label=\"normal points\")\n",
    "    b1 =plt.scatter(res.iloc[outlier_index,0],res.iloc[outlier_index,1], c='green',s=20,  edgecolor=\"red\",label=\"predicted outliers\")\n",
    "    plt.legend(loc=\"upper right\")\n",
    "    plt.show()"
   ]
  },
  {
   "cell_type": "code",
   "execution_count": 14,
   "metadata": {},
   "outputs": [
    {
     "name": "stderr",
     "output_type": "stream",
     "text": [
      "/home/sumin816/anaconda3/envs/test/lib/python3.7/site-packages/ipykernel_launcher.py:2: SettingWithCopyWarning: \n",
      "A value is trying to be set on a copy of a slice from a DataFrame.\n",
      "Try using .loc[row_indexer,col_indexer] = value instead\n",
      "\n",
      "See the caveats in the documentation: https://pandas.pydata.org/pandas-docs/stable/user_guide/indexing.html#returning-a-view-versus-a-copy\n",
      "  \n"
     ]
    }
   ],
   "source": [
    "X_data=data.iloc[:,:28]\n",
    "X_data['Log amount']=data.iloc[:,29]\n",
    "Y_data=data.iloc[:,28]"
   ]
  },
  {
   "cell_type": "code",
   "execution_count": 15,
   "metadata": {},
   "outputs": [],
   "source": [
    "outlier_index=np.concatenate([normal_outlier_index, fraud_outlier_index])\n",
    "#outlier_index=normal_outlier_index"
   ]
  },
  {
   "cell_type": "code",
   "execution_count": 16,
   "metadata": {},
   "outputs": [
    {
     "data": {
      "image/png": "[encoded data removed]",
      "text/plain": [
       "<Figure size 432x288 with 1 Axes>"
      ]
     },
     "metadata": {
      "needs_background": "light"
     },
     "output_type": "display_data"
    }
   ],
   "source": [
    "pca_3d(X_data,outlier_index)"
   ]
  },
  {
   "cell_type": "code",
   "execution_count": 17,
   "metadata": {},
   "outputs": [
    {
     "data": {
      "image/png": "[encoded data removed]",
      "text/plain": [
       "<Figure size 432x288 with 1 Axes>"
      ]
     },
     "metadata": {
      "needs_background": "light"
     },
     "output_type": "display_data"
    }
   ],
   "source": [
    "pca_2d(X_data,outlier_index)"
   ]
  },
  {
   "cell_type": "code",
   "execution_count": 18,
   "metadata": {},
   "outputs": [
    {
     "name": "stderr",
     "output_type": "stream",
     "text": [
      "/home/sumin816/anaconda3/envs/test/lib/python3.7/site-packages/pandas/core/frame.py:4312: SettingWithCopyWarning: \n",
      "A value is trying to be set on a copy of a slice from a DataFrame\n",
      "\n",
      "See the caveats in the documentation: https://pandas.pydata.org/pandas-docs/stable/user_guide/indexing.html#returning-a-view-versus-a-copy\n",
      "  errors=errors,\n"
     ]
    }
   ],
   "source": [
    "X_data.drop(outlier_index,axis=0,inplace=True)\n",
    "Y_data.drop(outlier_index,axis=0,inplace=True)"
   ]
  },
  {
   "cell_type": "code",
   "execution_count": 19,
   "metadata": {},
   "outputs": [
    {
     "data": {
      "text/html": [
       "<div>\n",
       "<style scoped>\n",
       "    .dataframe tbody tr th:only-of-type {\n",
       "        vertical-align: middle;\n",
       "    }\n",
       "\n",
       "    .dataframe tbody tr th {\n",
       "        vertical-align: top;\n",
       "    }\n",
       "\n",
       "    .dataframe thead th {\n",
       "        text-align: right;\n",
       "    }\n",
       "</style>\n",
       "<table border=\"1\" class=\"dataframe\">\n",
       "  <thead>\n",
       "    <tr style=\"text-align: right;\">\n",
       "      <th></th>\n",
       "      <th>V1</th>\n",
       "      <th>V2</th>\n",
       "      <th>V3</th>\n",
       "      <th>V4</th>\n",
       "      <th>V5</th>\n",
       "      <th>V6</th>\n",
       "      <th>V7</th>\n",
       "      <th>V8</th>\n",
       "      <th>V9</th>\n",
       "      <th>V10</th>\n",
       "      <th>...</th>\n",
       "      <th>V20</th>\n",
       "      <th>V21</th>\n",
       "      <th>V22</th>\n",
       "      <th>V23</th>\n",
       "      <th>V24</th>\n",
       "      <th>V25</th>\n",
       "      <th>V26</th>\n",
       "      <th>V27</th>\n",
       "      <th>V28</th>\n",
       "      <th>Log amount</th>\n",
       "    </tr>\n",
       "  </thead>\n",
       "  <tbody>\n",
       "    <tr>\n",
       "      <th>0</th>\n",
       "      <td>-1.359807</td>\n",
       "      <td>-0.072781</td>\n",
       "      <td>2.536347</td>\n",
       "      <td>1.378155</td>\n",
       "      <td>-0.338321</td>\n",
       "      <td>0.462388</td>\n",
       "      <td>0.239599</td>\n",
       "      <td>0.098698</td>\n",
       "      <td>0.363787</td>\n",
       "      <td>0.090794</td>\n",
       "      <td>...</td>\n",
       "      <td>0.251412</td>\n",
       "      <td>-0.018307</td>\n",
       "      <td>0.277838</td>\n",
       "      <td>-0.110474</td>\n",
       "      <td>0.066928</td>\n",
       "      <td>0.128539</td>\n",
       "      <td>-0.189115</td>\n",
       "      <td>0.133558</td>\n",
       "      <td>-0.021053</td>\n",
       "      <td>5.008105</td>\n",
       "    </tr>\n",
       "    <tr>\n",
       "      <th>1</th>\n",
       "      <td>1.191857</td>\n",
       "      <td>0.266151</td>\n",
       "      <td>0.166480</td>\n",
       "      <td>0.448154</td>\n",
       "      <td>0.060018</td>\n",
       "      <td>-0.082361</td>\n",
       "      <td>-0.078803</td>\n",
       "      <td>0.085102</td>\n",
       "      <td>-0.255425</td>\n",
       "      <td>-0.166974</td>\n",
       "      <td>...</td>\n",
       "      <td>-0.069083</td>\n",
       "      <td>-0.225775</td>\n",
       "      <td>-0.638672</td>\n",
       "      <td>0.101288</td>\n",
       "      <td>-0.339846</td>\n",
       "      <td>0.167170</td>\n",
       "      <td>0.125895</td>\n",
       "      <td>-0.008983</td>\n",
       "      <td>0.014724</td>\n",
       "      <td>0.989913</td>\n",
       "    </tr>\n",
       "    <tr>\n",
       "      <th>2</th>\n",
       "      <td>-1.358354</td>\n",
       "      <td>-1.340163</td>\n",
       "      <td>1.773209</td>\n",
       "      <td>0.379780</td>\n",
       "      <td>-0.503198</td>\n",
       "      <td>1.800499</td>\n",
       "      <td>0.791461</td>\n",
       "      <td>0.247676</td>\n",
       "      <td>-1.514654</td>\n",
       "      <td>0.207643</td>\n",
       "      <td>...</td>\n",
       "      <td>0.524980</td>\n",
       "      <td>0.247998</td>\n",
       "      <td>0.771679</td>\n",
       "      <td>0.909412</td>\n",
       "      <td>-0.689281</td>\n",
       "      <td>-0.327642</td>\n",
       "      <td>-0.139097</td>\n",
       "      <td>-0.055353</td>\n",
       "      <td>-0.059752</td>\n",
       "      <td>5.936641</td>\n",
       "    </tr>\n",
       "    <tr>\n",
       "      <th>3</th>\n",
       "      <td>-0.966272</td>\n",
       "      <td>-0.185226</td>\n",
       "      <td>1.792993</td>\n",
       "      <td>-0.863291</td>\n",
       "      <td>-0.010309</td>\n",
       "      <td>1.247203</td>\n",
       "      <td>0.237609</td>\n",
       "      <td>0.377436</td>\n",
       "      <td>-1.387024</td>\n",
       "      <td>-0.054952</td>\n",
       "      <td>...</td>\n",
       "      <td>-0.208038</td>\n",
       "      <td>-0.108300</td>\n",
       "      <td>0.005274</td>\n",
       "      <td>-0.190321</td>\n",
       "      <td>-1.175575</td>\n",
       "      <td>0.647376</td>\n",
       "      <td>-0.221929</td>\n",
       "      <td>0.062723</td>\n",
       "      <td>0.061458</td>\n",
       "      <td>4.816249</td>\n",
       "    </tr>\n",
       "    <tr>\n",
       "      <th>4</th>\n",
       "      <td>-1.158233</td>\n",
       "      <td>0.877737</td>\n",
       "      <td>1.548718</td>\n",
       "      <td>0.403034</td>\n",
       "      <td>-0.407193</td>\n",
       "      <td>0.095921</td>\n",
       "      <td>0.592941</td>\n",
       "      <td>-0.270533</td>\n",
       "      <td>0.817739</td>\n",
       "      <td>0.753074</td>\n",
       "      <td>...</td>\n",
       "      <td>0.408542</td>\n",
       "      <td>-0.009431</td>\n",
       "      <td>0.798278</td>\n",
       "      <td>-0.137458</td>\n",
       "      <td>0.141267</td>\n",
       "      <td>-0.206010</td>\n",
       "      <td>0.502292</td>\n",
       "      <td>0.219422</td>\n",
       "      <td>0.215153</td>\n",
       "      <td>4.248367</td>\n",
       "    </tr>\n",
       "    <tr>\n",
       "      <th>...</th>\n",
       "      <td>...</td>\n",
       "      <td>...</td>\n",
       "      <td>...</td>\n",
       "      <td>...</td>\n",
       "      <td>...</td>\n",
       "      <td>...</td>\n",
       "      <td>...</td>\n",
       "      <td>...</td>\n",
       "      <td>...</td>\n",
       "      <td>...</td>\n",
       "      <td>...</td>\n",
       "      <td>...</td>\n",
       "      <td>...</td>\n",
       "      <td>...</td>\n",
       "      <td>...</td>\n",
       "      <td>...</td>\n",
       "      <td>...</td>\n",
       "      <td>...</td>\n",
       "      <td>...</td>\n",
       "      <td>...</td>\n",
       "      <td>...</td>\n",
       "    </tr>\n",
       "    <tr>\n",
       "      <th>247297</th>\n",
       "      <td>-0.685505</td>\n",
       "      <td>-0.277326</td>\n",
       "      <td>1.900544</td>\n",
       "      <td>-2.213269</td>\n",
       "      <td>-1.031180</td>\n",
       "      <td>0.480324</td>\n",
       "      <td>-0.860361</td>\n",
       "      <td>0.604277</td>\n",
       "      <td>0.579362</td>\n",
       "      <td>0.242419</td>\n",
       "      <td>...</td>\n",
       "      <td>0.084425</td>\n",
       "      <td>0.137453</td>\n",
       "      <td>0.652636</td>\n",
       "      <td>-0.196782</td>\n",
       "      <td>-0.505575</td>\n",
       "      <td>-0.287098</td>\n",
       "      <td>-0.265578</td>\n",
       "      <td>0.520126</td>\n",
       "      <td>0.260147</td>\n",
       "      <td>0.001000</td>\n",
       "    </tr>\n",
       "    <tr>\n",
       "      <th>247298</th>\n",
       "      <td>1.458305</td>\n",
       "      <td>-2.117138</td>\n",
       "      <td>-1.147928</td>\n",
       "      <td>-0.809323</td>\n",
       "      <td>-0.950119</td>\n",
       "      <td>0.170753</td>\n",
       "      <td>-0.511248</td>\n",
       "      <td>-0.125501</td>\n",
       "      <td>-0.105532</td>\n",
       "      <td>0.519438</td>\n",
       "      <td>...</td>\n",
       "      <td>0.875969</td>\n",
       "      <td>0.245424</td>\n",
       "      <td>-0.170900</td>\n",
       "      <td>-0.033591</td>\n",
       "      <td>0.047550</td>\n",
       "      <td>-0.518818</td>\n",
       "      <td>-0.469358</td>\n",
       "      <td>-0.054827</td>\n",
       "      <td>0.030833</td>\n",
       "      <td>5.991467</td>\n",
       "    </tr>\n",
       "    <tr>\n",
       "      <th>247299</th>\n",
       "      <td>-0.671530</td>\n",
       "      <td>-0.163224</td>\n",
       "      <td>2.050980</td>\n",
       "      <td>-2.010056</td>\n",
       "      <td>-1.249401</td>\n",
       "      <td>-0.033353</td>\n",
       "      <td>-0.663810</td>\n",
       "      <td>0.382260</td>\n",
       "      <td>0.692583</td>\n",
       "      <td>0.044298</td>\n",
       "      <td>...</td>\n",
       "      <td>0.112891</td>\n",
       "      <td>0.121122</td>\n",
       "      <td>0.675433</td>\n",
       "      <td>-0.149557</td>\n",
       "      <td>-0.031065</td>\n",
       "      <td>-0.285669</td>\n",
       "      <td>-0.275729</td>\n",
       "      <td>0.531661</td>\n",
       "      <td>0.275495</td>\n",
       "      <td>2.232270</td>\n",
       "    </tr>\n",
       "    <tr>\n",
       "      <th>247300</th>\n",
       "      <td>0.080243</td>\n",
       "      <td>0.914558</td>\n",
       "      <td>-1.144838</td>\n",
       "      <td>0.027907</td>\n",
       "      <td>0.050925</td>\n",
       "      <td>-1.305150</td>\n",
       "      <td>0.813779</td>\n",
       "      <td>0.109938</td>\n",
       "      <td>-0.113518</td>\n",
       "      <td>-1.175737</td>\n",
       "      <td>...</td>\n",
       "      <td>-0.106791</td>\n",
       "      <td>0.362855</td>\n",
       "      <td>0.892885</td>\n",
       "      <td>0.083734</td>\n",
       "      <td>-0.115643</td>\n",
       "      <td>-0.245846</td>\n",
       "      <td>-0.148970</td>\n",
       "      <td>-0.097911</td>\n",
       "      <td>-0.042843</td>\n",
       "      <td>4.445600</td>\n",
       "    </tr>\n",
       "    <tr>\n",
       "      <th>247301</th>\n",
       "      <td>0.029745</td>\n",
       "      <td>0.678530</td>\n",
       "      <td>0.084258</td>\n",
       "      <td>-0.795353</td>\n",
       "      <td>0.565445</td>\n",
       "      <td>-0.578080</td>\n",
       "      <td>0.772562</td>\n",
       "      <td>0.065231</td>\n",
       "      <td>-0.020288</td>\n",
       "      <td>-0.190047</td>\n",
       "      <td>...</td>\n",
       "      <td>-0.119705</td>\n",
       "      <td>-0.259471</td>\n",
       "      <td>-0.681947</td>\n",
       "      <td>0.015104</td>\n",
       "      <td>-0.544454</td>\n",
       "      <td>-0.511993</td>\n",
       "      <td>0.155941</td>\n",
       "      <td>0.232338</td>\n",
       "      <td>0.078931</td>\n",
       "      <td>-0.009041</td>\n",
       "    </tr>\n",
       "  </tbody>\n",
       "</table>\n",
       "<p>247177 rows × 29 columns</p>\n",
       "</div>"
      ],
      "text/plain": [
       "              V1        V2        V3        V4        V5        V6        V7  \\\n",
       "0      -1.359807 -0.072781  2.536347  1.378155 -0.338321  0.462388  0.239599   \n",
       "1       1.191857  0.266151  0.166480  0.448154  0.060018 -0.082361 -0.078803   \n",
       "2      -1.358354 -1.340163  1.773209  0.379780 -0.503198  1.800499  0.791461   \n",
       "3      -0.966272 -0.185226  1.792993 -0.863291 -0.010309  1.247203  0.237609   \n",
       "4      -1.158233  0.877737  1.548718  0.403034 -0.407193  0.095921  0.592941   \n",
       "...          ...       ...       ...       ...       ...       ...       ...   \n",
       "247297 -0.685505 -0.277326  1.900544 -2.213269 -1.031180  0.480324 -0.860361   \n",
       "247298  1.458305 -2.117138 -1.147928 -0.809323 -0.950119  0.170753 -0.511248   \n",
       "247299 -0.671530 -0.163224  2.050980 -2.010056 -1.249401 -0.033353 -0.663810   \n",
       "247300  0.080243  0.914558 -1.144838  0.027907  0.050925 -1.305150  0.813779   \n",
       "247301  0.029745  0.678530  0.084258 -0.795353  0.565445 -0.578080  0.772562   \n",
       "\n",
       "              V8        V9       V10  ...       V20       V21       V22  \\\n",
       "0       0.098698  0.363787  0.090794  ...  0.251412 -0.018307  0.277838   \n",
       "1       0.085102 -0.255425 -0.166974  ... -0.069083 -0.225775 -0.638672   \n",
       "2       0.247676 -1.514654  0.207643  ...  0.524980  0.247998  0.771679   \n",
       "3       0.377436 -1.387024 -0.054952  ... -0.208038 -0.108300  0.005274   \n",
       "4      -0.270533  0.817739  0.753074  ...  0.408542 -0.009431  0.798278   \n",
       "...          ...       ...       ...  ...       ...       ...       ...   \n",
       "247297  0.604277  0.579362  0.242419  ...  0.084425  0.137453  0.652636   \n",
       "247298 -0.125501 -0.105532  0.519438  ...  0.875969  0.245424 -0.170900   \n",
       "247299  0.382260  0.692583  0.044298  ...  0.112891  0.121122  0.675433   \n",
       "247300  0.109938 -0.113518 -1.175737  ... -0.106791  0.362855  0.892885   \n",
       "247301  0.065231 -0.020288 -0.190047  ... -0.119705 -0.259471 -0.681947   \n",
       "\n",
       "             V23       V24       V25       V26       V27       V28  Log amount  \n",
       "0      -0.110474  0.066928  0.128539 -0.189115  0.133558 -0.021053    5.008105  \n",
       "1       0.101288 -0.339846  0.167170  0.125895 -0.008983  0.014724    0.989913  \n",
       "2       0.909412 -0.689281 -0.327642 -0.139097 -0.055353 -0.059752    5.936641  \n",
       "3      -0.190321 -1.175575  0.647376 -0.221929  0.062723  0.061458    4.816249  \n",
       "4      -0.137458  0.141267 -0.206010  0.502292  0.219422  0.215153    4.248367  \n",
       "...          ...       ...       ...       ...       ...       ...         ...  \n",
       "247297 -0.196782 -0.505575 -0.287098 -0.265578  0.520126  0.260147    0.001000  \n",
       "247298 -0.033591  0.047550 -0.518818 -0.469358 -0.054827  0.030833    5.991467  \n",
       "247299 -0.149557 -0.031065 -0.285669 -0.275729  0.531661  0.275495    2.232270  \n",
       "247300  0.083734 -0.115643 -0.245846 -0.148970 -0.097911 -0.042843    4.445600  \n",
       "247301  0.015104 -0.544454 -0.511993  0.155941  0.232338  0.078931   -0.009041  \n",
       "\n",
       "[247177 rows x 29 columns]"
      ]
     },
     "execution_count": 19,
     "metadata": {},
     "output_type": "execute_result"
    }
   ],
   "source": [
    "X_data"
   ]
  },
  {
   "cell_type": "code",
   "execution_count": 20,
   "metadata": {},
   "outputs": [],
   "source": [
    "X_data=np.array(X_data)\n",
    "Y_data=np.array(Y_data)"
   ]
  },
  {
   "cell_type": "code",
   "execution_count": 21,
   "metadata": {},
   "outputs": [],
   "source": [
    "# scaler = StandardScaler()\n",
    "# X_data = scaler.fit_transform(X_data)"
   ]
  },
  {
   "cell_type": "code",
   "execution_count": 22,
   "metadata": {},
   "outputs": [
    {
     "name": "stdout",
     "output_type": "stream",
     "text": [
      "(247177,) (247177, 29)\n"
     ]
    }
   ],
   "source": [
    "print(Y_data.shape, X_data.shape)"
   ]
  },
  {
   "cell_type": "code",
   "execution_count": 23,
   "metadata": {},
   "outputs": [],
   "source": [
    "from sklearn.ensemble import RandomForestClassifier"
   ]
  },
  {
   "cell_type": "code",
   "execution_count": 24,
   "metadata": {},
   "outputs": [],
   "source": [
    "# from sklearn.model_selection import GridSearchCV\n",
    "\n",
    "# params = { 'n_estimators' : [10, 100],\n",
    "#            'max_depth' : [6, 8, 10, 12],\n",
    "#            'min_samples_leaf' : [8, 12, 18],\n",
    "#            'min_samples_split' : [8, 16, 20]\n",
    "#             }\n",
    "\n",
    "# # RandomForestClassifier 객체 생성 후 GridSearchCV 수행\n",
    "# rf_clf = RandomForestClassifier(random_state = 0, n_jobs = -1)\n",
    "# grid_cv = GridSearchCV(rf_clf, param_grid = params, cv = 3, n_jobs = -1)\n",
    "# grid_cv.fit(X_data, Y_data)\n",
    "\n",
    "# print('최적 하이퍼 파라미터: ', grid_cv.best_params_)\n",
    "# print('최고 예측 정확도: {:.4f}'.format(grid_cv.best_score_))"
   ]
  },
  {
   "cell_type": "code",
   "execution_count": 25,
   "metadata": {},
   "outputs": [],
   "source": [
    "rf= RandomForestClassifier(n_estimators = 100, \n",
    "                                max_depth = 10,\n",
    "                                min_samples_leaf = 8,\n",
    "                                min_samples_split = 8,\n",
    "                                random_state = 0,\n",
    "                                n_jobs = -1)"
   ]
  },
  {
   "cell_type": "code",
   "execution_count": 26,
   "metadata": {},
   "outputs": [],
   "source": [
    "from sklearn.model_selection import StratifiedKFold\n",
    "from imblearn.over_sampling import SMOTE\n",
    "from sklearn.model_selection import train_test_split\n",
    "from sklearn.metrics import classification_report, accuracy_score,precision_score,recall_score,f1_score,roc_auc_score\n",
    "from sklearn.metrics import confusion_matrix\n",
    "import seaborn as sns"
   ]
  },
  {
   "cell_type": "code",
   "execution_count": 27,
   "metadata": {},
   "outputs": [],
   "source": [
    "X_train_val, X_test, Y_train_val, Y_test = train_test_split(X_data,Y_data, test_size=0.2, random_state=777, stratify=Y_data)"
   ]
  },
  {
   "cell_type": "code",
   "execution_count": 28,
   "metadata": {},
   "outputs": [],
   "source": [
    "skf = StratifiedKFold(n_splits=5)\n",
    "k=5"
   ]
  },
  {
   "cell_type": "code",
   "execution_count": 29,
   "metadata": {},
   "outputs": [
    {
     "name": "stdout",
     "output_type": "stream",
     "text": [
      "1 번째 cross validation\n",
      "2 번째 cross validation\n",
      "3 번째 cross validation\n",
      "4 번째 cross validation\n",
      "5 번째 cross validation\n"
     ]
    }
   ],
   "source": [
    "result_Y_val=[]\n",
    "result_Y_val_pred=[]\n",
    "model =  rf\n",
    "\n",
    "i=0\n",
    "for train_index,val_index in skf.split(X_train_val,Y_train_val):\n",
    "    i=i+1\n",
    "    print(str(i),\"번째 cross validation\")\n",
    "    X_train = X_train_val[train_index]\n",
    "    Y_train = Y_train_val[train_index]  \n",
    "    X_val = X_train_val[val_index]\n",
    "    Y_val = Y_train_val[val_index]\n",
    "    \n",
    "    sm = SMOTE()\n",
    "    X_train_oversampled, Y_train_oversampled = sm.fit_sample(X_train, Y_train)\n",
    "    model.fit(X_train_oversampled, Y_train_oversampled)\n",
    "\n",
    "    Y_val_pred = rf.predict(X_val)\n",
    "    result_Y_val.append(Y_val)\n",
    "    result_Y_val_pred.append(Y_val_pred)\n",
    "\n"
   ]
  },
  {
   "cell_type": "code",
   "execution_count": 30,
   "metadata": {},
   "outputs": [],
   "source": [
    "Y_pred=model.predict(X_test)"
   ]
  },
  {
   "cell_type": "code",
   "execution_count": 31,
   "metadata": {},
   "outputs": [],
   "source": [
    "def evaluation(Y_test,y_pred):\n",
    "    acc= accuracy_score(Y_test,y_pred)\n",
    "    print(\"accuracy : {}\".format(acc))\n",
    "    prec= precision_score(Y_test,y_pred)\n",
    "    print(\"precision : {}\".format(prec))\n",
    "    rec= recall_score(Y_test,y_pred)\n",
    "    print(\"recall: {}\".format(rec))\n",
    "    f1= f1_score(Y_test,y_pred)\n",
    "    print(\"F1-Score : {}\".format(f1))\n",
    "    auc_score=roc_auc_score(Y_test,y_pred)\n",
    "    print(\"auc_score: {}\".format(auc_score))\n",
    "    "
   ]
  },
  {
   "cell_type": "code",
   "execution_count": 32,
   "metadata": {},
   "outputs": [
    {
     "name": "stdout",
     "output_type": "stream",
     "text": [
      "1 번째 cross validation\n",
      "accuracy : 0.9990391666034539\n",
      "precision : 0.7023809523809523\n",
      "recall: 0.8194444444444444\n",
      "F1-Score : 0.7564102564102564\n",
      "auc_score: 0.9094055821533213\n",
      "\n",
      "\n",
      "2 번째 cross validation\n",
      "accuracy : 0.9990138565793466\n",
      "precision : 0.6739130434782609\n",
      "recall: 0.8732394366197183\n",
      "F1-Score : 0.7607361963190182\n",
      "auc_score: 0.9362397502271781\n",
      "\n",
      "\n",
      "3 번째 cross validation\n",
      "accuracy : 0.9992919995954284\n",
      "precision : 0.7721518987341772\n",
      "recall: 0.8591549295774648\n",
      "F1-Score : 0.8133333333333335\n",
      "auc_score: 0.9293494839391238\n",
      "\n",
      "\n",
      "4 번째 cross validation\n",
      "accuracy : 0.9991655709517548\n",
      "precision : 0.7191011235955056\n",
      "recall: 0.8888888888888888\n",
      "F1-Score : 0.7950310559006211\n",
      "auc_score: 0.9441277963544656\n",
      "\n",
      "\n",
      "5 번째 cross validation\n",
      "accuracy : 0.999064428036816\n",
      "precision : 0.7011494252873564\n",
      "recall: 0.8472222222222222\n",
      "F1-Score : 0.7672955974842768\n",
      "auc_score: 0.9232817970975332\n",
      "\n",
      "\n"
     ]
    }
   ],
   "source": [
    "for i in range(k):\n",
    "    print(\"{} 번째 cross validation\".format(i+1))\n",
    "    evaluation(result_Y_val[i],result_Y_val_pred[i])\n",
    "    print(\"\\n\")"
   ]
  },
  {
   "cell_type": "code",
   "execution_count": 33,
   "metadata": {},
   "outputs": [
    {
     "name": "stdout",
     "output_type": "stream",
     "text": [
      "accuracy : 0.9993122420907841\n",
      "precision : 0.7978723404255319\n",
      "recall: 0.8333333333333334\n",
      "F1-Score : 0.8152173913043479\n",
      "auc_score: 0.9164741485294318\n"
     ]
    }
   ],
   "source": [
    "evaluation(Y_test,Y_pred)"
   ]
  },
  {
   "cell_type": "code",
   "execution_count": 34,
   "metadata": {
    "scrolled": true
   },
   "outputs": [
    {
     "data": {
      "image/png": "[encoded data removed]",
      "text/plain": [
       "<Figure size 288x288 with 2 Axes>"
      ]
     },
     "metadata": {
      "needs_background": "light"
     },
     "output_type": "display_data"
    }
   ],
   "source": [
    "LABELS = ['Normal', 'Fraud']\n",
    "conf_matrix = confusion_matrix(Y_test, Y_pred)\n",
    "plt.figure(figsize=(4, 4))\n",
    "sns.heatmap(conf_matrix, xticklabels=LABELS, yticklabels=LABELS, annot=True, fmt=\"d\");\n",
    "plt.title(\"Confusion matrix\")\n",
    "plt.ylabel('True class')\n",
    "plt.xlabel('Predicted class')\n",
    "plt.show()\n"
   ]
  },
  {
   "cell_type": "code",
   "execution_count": null,
   "metadata": {},
   "outputs": [],
   "source": []
  },
  {
   "cell_type": "code",
   "execution_count": null,
   "metadata": {},
   "outputs": [],
   "source": []
  }
 ],
 "metadata": {
  "kernelspec": {
   "display_name": "test",
   "language": "python",
   "name": "test"
  },
  "language_info": {
   "codemirror_mode": {
    "name": "ipython",
    "version": 3
   },
   "file_extension": ".py",
   "mimetype": "text/x-python",
   "name": "python",
   "nbconvert_exporter": "python",
   "pygments_lexer": "ipython3",
   "version": "3.7.9"
  }
 },
 "nbformat": 4,
 "nbformat_minor": 4
}
