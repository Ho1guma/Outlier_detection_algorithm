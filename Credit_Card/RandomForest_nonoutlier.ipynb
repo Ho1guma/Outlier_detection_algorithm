{
 "cells": [
  {
   "cell_type": "code",
   "execution_count": 1,
   "metadata": {},
   "outputs": [
    {
     "name": "stdout",
     "output_type": "stream",
     "text": [
      "importing Jupyter notebook from preprocessing.ipynb\n"
     ]
    }
   ],
   "source": [
    "import tensorflow as tf\n",
    "import numpy as np\n",
    "import pandas as pd\n",
    "import matplotlib.pyplot as plt\n",
    "import import_ipynb\n",
    "import preprocessing"
   ]
  },
  {
   "cell_type": "code",
   "execution_count": 2,
   "metadata": {},
   "outputs": [],
   "source": [
    "X_data=preprocessing.X_data_scaler\n",
    "Y_data=preprocessing.Y_data"
   ]
  },
  {
   "cell_type": "code",
   "execution_count": 3,
   "metadata": {},
   "outputs": [],
   "source": [
    "from sklearn.ensemble import RandomForestClassifier"
   ]
  },
  {
   "cell_type": "code",
   "execution_count": 4,
   "metadata": {},
   "outputs": [],
   "source": [
    "# from sklearn.model_selection import GridSearchCV\n",
    "\n",
    "# params = { 'n_estimators' : [10, 100],\n",
    "#            'max_depth' : [6, 8, 10, 12],\n",
    "#            'min_samples_leaf' : [8, 12, 18],\n",
    "#            'min_samples_split' : [8, 16, 20]\n",
    "#             }\n",
    "\n",
    "# # RandomForestClassifier 객체 생성 후 GridSearchCV 수행\n",
    "# rf_clf = RandomForestClassifier(random_state = 0, n_jobs = -1)\n",
    "# grid_cv = GridSearchCV(rf_clf, param_grid = params, cv = 3, n_jobs = -1)\n",
    "# grid_cv.fit(X_data, Y_data)\n",
    "\n",
    "# print('최적 하이퍼 파라미터: ', grid_cv.best_params_)\n",
    "# print('최고 예측 정확도: {:.4f}'.format(grid_cv.best_score_))"
   ]
  },
  {
   "cell_type": "code",
   "execution_count": 5,
   "metadata": {},
   "outputs": [],
   "source": [
    "rf= RandomForestClassifier(n_estimators = 100, \n",
    "                                max_depth = 10,\n",
    "                                min_samples_leaf = 8,\n",
    "                                min_samples_split = 8,\n",
    "                                random_state = 0,\n",
    "                                n_jobs = -1)"
   ]
  },
  {
   "cell_type": "code",
   "execution_count": 6,
   "metadata": {},
   "outputs": [],
   "source": [
    "from sklearn.model_selection import StratifiedKFold\n",
    "from imblearn.over_sampling import SMOTE\n",
    "from sklearn.model_selection import train_test_split\n",
    "from sklearn.metrics import classification_report, accuracy_score,precision_score,recall_score,f1_score,roc_auc_score\n",
    "from sklearn.metrics import confusion_matrix\n",
    "import seaborn as sns"
   ]
  },
  {
   "cell_type": "code",
   "execution_count": 7,
   "metadata": {},
   "outputs": [],
   "source": [
    "X_train_val, X_test, Y_train_val, Y_test = train_test_split(X_data,Y_data, test_size=0.1, random_state=777, stratify=Y_data)"
   ]
  },
  {
   "cell_type": "code",
   "execution_count": 8,
   "metadata": {},
   "outputs": [],
   "source": [
    "Y_train_val = Y_train_val.to_numpy ()"
   ]
  },
  {
   "cell_type": "code",
   "execution_count": 9,
   "metadata": {},
   "outputs": [],
   "source": [
    "skf = StratifiedKFold(n_splits=10)\n",
    "k=10"
   ]
  },
  {
   "cell_type": "code",
   "execution_count": 10,
   "metadata": {},
   "outputs": [
    {
     "name": "stdout",
     "output_type": "stream",
     "text": [
      "1 번째 cross validation\n",
      "2 번째 cross validation\n",
      "3 번째 cross validation\n",
      "4 번째 cross validation\n",
      "5 번째 cross validation\n",
      "6 번째 cross validation\n",
      "7 번째 cross validation\n",
      "8 번째 cross validation\n",
      "9 번째 cross validation\n",
      "10 번째 cross validation\n"
     ]
    }
   ],
   "source": [
    "result_Y_val=[]\n",
    "result_Y_val_pred=[]\n",
    "model =  rf\n",
    "\n",
    "i=0\n",
    "for train_index,val_index in skf.split(X_train_val,Y_train_val):\n",
    "    i=i+1\n",
    "    print(str(i),\"번째 cross validation\")\n",
    "    X_train = X_train_val[train_index]\n",
    "    Y_train = Y_train_val[train_index]  \n",
    "    X_val = X_train_val[val_index]\n",
    "    Y_val = Y_train_val[val_index]\n",
    "    \n",
    "    sm = SMOTE()\n",
    "    X_train_oversampled, Y_train_oversampled = sm.fit_sample(X_train, Y_train)\n",
    "    model.fit(X_train_oversampled, Y_train_oversampled)\n",
    "\n",
    "    Y_val_pred = rf.predict(X_val)\n",
    "    result_Y_val.append(Y_val)\n",
    "    result_Y_val_pred.append(Y_val_pred)\n",
    "\n"
   ]
  },
  {
   "cell_type": "code",
   "execution_count": 11,
   "metadata": {},
   "outputs": [],
   "source": [
    "Y_pred=model.predict(X_test)"
   ]
  },
  {
   "cell_type": "code",
   "execution_count": 12,
   "metadata": {},
   "outputs": [],
   "source": [
    "def evaluation(Y_test,y_pred):\n",
    "    acc= accuracy_score(Y_test,y_pred)\n",
    "    print(\"accuracy : {}\".format(acc))\n",
    "    prec= precision_score(Y_test,y_pred)\n",
    "    print(\"precision : {}\".format(prec))\n",
    "    rec= recall_score(Y_test,y_pred)\n",
    "    print(\"recall: {}\".format(rec))\n",
    "    f1= f1_score(Y_test,y_pred)\n",
    "    print(\"F1-Score : {}\".format(f1))\n",
    "    auc_score=roc_auc_score(Y_test,y_pred)\n",
    "    print(\"auc_score: {}\".format(auc_score))\n",
    "    "
   ]
  },
  {
   "cell_type": "code",
   "execution_count": 13,
   "metadata": {},
   "outputs": [
    {
     "name": "stdout",
     "output_type": "stream",
     "text": [
      "1 번째 cross validation\n",
      "accuracy : 0.999056519004403\n",
      "precision : 0.6923076923076923\n",
      "recall: 0.8780487804878049\n",
      "F1-Score : 0.7741935483870966\n",
      "auc_score: 0.9386643056240167\n",
      "\n",
      "\n",
      "2 번째 cross validation\n",
      "accuracy : 0.9986970391337556\n",
      "precision : 0.6\n",
      "recall: 0.825\n",
      "F1-Score : 0.6947368421052632\n",
      "auc_score: 0.9120048836476573\n",
      "\n",
      "\n",
      "3 번째 cross validation\n",
      "accuracy : 0.998562250078627\n",
      "precision : 0.5740740740740741\n",
      "recall: 0.775\n",
      "F1-Score : 0.6595744680851063\n",
      "auc_score: 0.8869823783589144\n",
      "\n",
      "\n",
      "4 번째 cross validation\n",
      "accuracy : 0.9987419688187986\n",
      "precision : 0.6111111111111112\n",
      "recall: 0.825\n",
      "F1-Score : 0.7021276595744681\n",
      "auc_score: 0.9120273889364\n",
      "\n",
      "\n",
      "5 번째 cross validation\n",
      "accuracy : 0.9985173203935841\n",
      "precision : 0.5507246376811594\n",
      "recall: 0.95\n",
      "F1-Score : 0.6972477064220184\n",
      "auc_score: 0.9743023360489714\n",
      "\n",
      "\n",
      "6 번째 cross validation\n",
      "accuracy : 0.9986521094487127\n",
      "precision : 0.5833333333333334\n",
      "recall: 0.875\n",
      "F1-Score : 0.7000000000000001\n",
      "auc_score: 0.9369373677814286\n",
      "\n",
      "\n",
      "7 번째 cross validation\n",
      "accuracy : 0.9988318281888844\n",
      "precision : 0.6206896551724138\n",
      "recall: 0.9\n",
      "F1-Score : 0.7346938775510204\n",
      "auc_score: 0.9495048836476572\n",
      "\n",
      "\n",
      "8 번째 cross validation\n",
      "accuracy : 0.9986970391337556\n",
      "precision : 0.6071428571428571\n",
      "recall: 0.8292682926829268\n",
      "F1-Score : 0.7010309278350515\n",
      "auc_score: 0.9141390077026444\n",
      "\n",
      "\n",
      "9 번째 cross validation\n",
      "accuracy : 0.9988318281888844\n",
      "precision : 0.6271186440677966\n",
      "recall: 0.9024390243902439\n",
      "F1-Score : 0.74\n",
      "auc_score: 0.950724373556303\n",
      "\n",
      "\n",
      "10 번째 cross validation\n",
      "accuracy : 0.9991912656692277\n",
      "precision : 0.7346938775510204\n",
      "recall: 0.8780487804878049\n",
      "F1-Score : 0.8\n",
      "auc_score: 0.9387318083209639\n",
      "\n",
      "\n"
     ]
    }
   ],
   "source": [
    "for i in range(k):\n",
    "    print(\"{} 번째 cross validation\".format(i+1))\n",
    "    evaluation(result_Y_val[i],result_Y_val_pred[i])\n",
    "    print(\"\\n\")"
   ]
  },
  {
   "cell_type": "code",
   "execution_count": 14,
   "metadata": {},
   "outputs": [
    {
     "name": "stdout",
     "output_type": "stream",
     "text": [
      "accuracy : 0.9989486878816061\n",
      "precision : 0.6862745098039216\n",
      "recall: 0.7777777777777778\n",
      "F1-Score : 0.7291666666666667\n",
      "auc_score: 0.8885648185656286\n"
     ]
    }
   ],
   "source": [
    "evaluation(Y_test,Y_pred)"
   ]
  },
  {
   "cell_type": "code",
   "execution_count": 15,
   "metadata": {},
   "outputs": [
    {
     "data": {
      "image/png": "[encoded data removed]",
      "text/plain": [
       "<Figure size 648x648 with 2 Axes>"
      ]
     },
     "metadata": {
      "needs_background": "light"
     },
     "output_type": "display_data"
    }
   ],
   "source": [
    "LABELS = ['Normal', 'Fraud']\n",
    "conf_matrix = confusion_matrix(Y_test, Y_pred)\n",
    "plt.figure(figsize=(9, 9))\n",
    "sns.heatmap(conf_matrix, xticklabels=LABELS, yticklabels=LABELS, annot=True, fmt=\"d\");\n",
    "plt.title(\"Confusion matrix\")\n",
    "plt.ylabel('True class')\n",
    "plt.xlabel('Predicted class')\n",
    "plt.show()\n"
   ]
  }
 ],
 "metadata": {
  "kernelspec": {
   "display_name": "test",
   "language": "python",
   "name": "test"
  },
  "language_info": {
   "codemirror_mode": {
    "name": "ipython",
    "version": 3
   },
   "file_extension": ".py",
   "mimetype": "text/x-python",
   "name": "python",
   "nbconvert_exporter": "python",
   "pygments_lexer": "ipython3",
   "version": "3.7.9"
  }
 },
 "nbformat": 4,
 "nbformat_minor": 4
}
