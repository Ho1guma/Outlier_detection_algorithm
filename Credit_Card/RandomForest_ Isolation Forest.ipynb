{
 "cells": [
  {
   "cell_type": "code",
   "execution_count": 1,
   "metadata": {},
   "outputs": [
    {
     "name": "stdout",
     "output_type": "stream",
     "text": [
      "importing Jupyter notebook from preprocessing.ipynb\n"
     ]
    }
   ],
   "source": [
    "import tensorflow as tf\n",
    "import numpy as np\n",
    "import pandas as pd\n",
    "import matplotlib.pyplot as plt\n",
    "import import_ipynb\n",
    "import preprocessing\n",
    "from sklearn.ensemble import IsolationForest\n",
    "import seaborn as sns\n",
    "from sklearn.decomposition import PCA"
   ]
  },
  {
   "cell_type": "code",
   "execution_count": 2,
   "metadata": {},
   "outputs": [],
   "source": [
    "X_data=preprocessing.X_data\n",
    "Y_data=preprocessing.Y_data"
   ]
  },
  {
   "cell_type": "code",
   "execution_count": 3,
   "metadata": {},
   "outputs": [
    {
     "name": "stdout",
     "output_type": "stream",
     "text": [
      "(247302,) (247302, 28)\n"
     ]
    }
   ],
   "source": [
    "print(Y_data.shape, X_data.shape)"
   ]
  },
  {
   "cell_type": "code",
   "execution_count": 4,
   "metadata": {},
   "outputs": [],
   "source": [
    "iforest = IsolationForest(n_estimators=100, max_samples='auto', \n",
    "                          contamination=0.0005, max_features=1.0, \n",
    "                          bootstrap=False, n_jobs=-1, random_state=1)"
   ]
  },
  {
   "cell_type": "code",
   "execution_count": 5,
   "metadata": {},
   "outputs": [],
   "source": [
    "pred = iforest.fit_predict(X_data)"
   ]
  },
  {
   "cell_type": "code",
   "execution_count": 6,
   "metadata": {},
   "outputs": [
    {
     "name": "stdout",
     "output_type": "stream",
     "text": [
      " 1    247178\n",
      "-1       124\n",
      "Name: anomaly, dtype: int64\n"
     ]
    }
   ],
   "source": [
    "X_data['anomaly']=pred\n",
    "outliers=X_data.loc[X_data['anomaly']==-1]\n",
    "outlier_index=list(outliers.index)\n",
    "print(X_data['anomaly'].value_counts())\n",
    "X_data=X_data.drop(['anomaly'],axis=1)"
   ]
  },
  {
   "cell_type": "code",
   "execution_count": 7,
   "metadata": {},
   "outputs": [
    {
     "data": {
      "text/html": [
       "<div>\n",
       "<style scoped>\n",
       "    .dataframe tbody tr th:only-of-type {\n",
       "        vertical-align: middle;\n",
       "    }\n",
       "\n",
       "    .dataframe tbody tr th {\n",
       "        vertical-align: top;\n",
       "    }\n",
       "\n",
       "    .dataframe thead th {\n",
       "        text-align: right;\n",
       "    }\n",
       "</style>\n",
       "<table border=\"1\" class=\"dataframe\">\n",
       "  <thead>\n",
       "    <tr style=\"text-align: right;\">\n",
       "      <th></th>\n",
       "      <th>V1</th>\n",
       "      <th>V2</th>\n",
       "      <th>V3</th>\n",
       "      <th>V4</th>\n",
       "      <th>V5</th>\n",
       "      <th>V6</th>\n",
       "      <th>V7</th>\n",
       "      <th>V8</th>\n",
       "      <th>V9</th>\n",
       "      <th>V10</th>\n",
       "      <th>...</th>\n",
       "      <th>V20</th>\n",
       "      <th>V21</th>\n",
       "      <th>V22</th>\n",
       "      <th>V23</th>\n",
       "      <th>V24</th>\n",
       "      <th>V25</th>\n",
       "      <th>V26</th>\n",
       "      <th>V27</th>\n",
       "      <th>Log amount</th>\n",
       "      <th>anomaly</th>\n",
       "    </tr>\n",
       "  </thead>\n",
       "  <tbody>\n",
       "    <tr>\n",
       "      <th>6812</th>\n",
       "      <td>-23.066842</td>\n",
       "      <td>-25.640527</td>\n",
       "      <td>-3.080313</td>\n",
       "      <td>4.866932</td>\n",
       "      <td>6.901397</td>\n",
       "      <td>-4.074335</td>\n",
       "      <td>2.027345</td>\n",
       "      <td>-2.688652</td>\n",
       "      <td>3.402966</td>\n",
       "      <td>2.881873</td>\n",
       "      <td>...</td>\n",
       "      <td>-13.276034</td>\n",
       "      <td>-5.378106</td>\n",
       "      <td>3.312971</td>\n",
       "      <td>13.876221</td>\n",
       "      <td>-0.572177</td>\n",
       "      <td>5.525093</td>\n",
       "      <td>0.906980</td>\n",
       "      <td>3.358822</td>\n",
       "      <td>6.740201</td>\n",
       "      <td>-1</td>\n",
       "    </tr>\n",
       "    <tr>\n",
       "      <th>8610</th>\n",
       "      <td>-27.670569</td>\n",
       "      <td>-34.607649</td>\n",
       "      <td>2.243079</td>\n",
       "      <td>10.463020</td>\n",
       "      <td>34.099309</td>\n",
       "      <td>-23.496714</td>\n",
       "      <td>-26.548144</td>\n",
       "      <td>-0.779134</td>\n",
       "      <td>7.496577</td>\n",
       "      <td>6.605512</td>\n",
       "      <td>...</td>\n",
       "      <td>-12.834042</td>\n",
       "      <td>-4.651023</td>\n",
       "      <td>-1.627883</td>\n",
       "      <td>-11.669994</td>\n",
       "      <td>2.192626</td>\n",
       "      <td>-2.483069</td>\n",
       "      <td>1.788189</td>\n",
       "      <td>8.254376</td>\n",
       "      <td>4.011886</td>\n",
       "      <td>-1</td>\n",
       "    </tr>\n",
       "    <tr>\n",
       "      <th>9252</th>\n",
       "      <td>-5.454362</td>\n",
       "      <td>8.287421</td>\n",
       "      <td>-12.752811</td>\n",
       "      <td>8.594342</td>\n",
       "      <td>-3.106002</td>\n",
       "      <td>-3.179949</td>\n",
       "      <td>-9.252794</td>\n",
       "      <td>4.245062</td>\n",
       "      <td>-6.329801</td>\n",
       "      <td>-13.136698</td>\n",
       "      <td>...</td>\n",
       "      <td>1.305862</td>\n",
       "      <td>1.846165</td>\n",
       "      <td>-0.267172</td>\n",
       "      <td>-0.310804</td>\n",
       "      <td>-1.201685</td>\n",
       "      <td>1.352176</td>\n",
       "      <td>0.608425</td>\n",
       "      <td>1.574715</td>\n",
       "      <td>0.001000</td>\n",
       "      <td>-1</td>\n",
       "    </tr>\n",
       "    <tr>\n",
       "      <th>9487</th>\n",
       "      <td>-4.153014</td>\n",
       "      <td>8.204797</td>\n",
       "      <td>-15.031714</td>\n",
       "      <td>10.330100</td>\n",
       "      <td>-3.994426</td>\n",
       "      <td>-3.250013</td>\n",
       "      <td>-10.415698</td>\n",
       "      <td>4.620804</td>\n",
       "      <td>-5.711248</td>\n",
       "      <td>-11.797181</td>\n",
       "      <td>...</td>\n",
       "      <td>1.412625</td>\n",
       "      <td>1.976988</td>\n",
       "      <td>0.256510</td>\n",
       "      <td>0.485908</td>\n",
       "      <td>-1.198821</td>\n",
       "      <td>-0.526567</td>\n",
       "      <td>0.634874</td>\n",
       "      <td>1.627209</td>\n",
       "      <td>0.001000</td>\n",
       "      <td>-1</td>\n",
       "    </tr>\n",
       "    <tr>\n",
       "      <th>9509</th>\n",
       "      <td>-4.710529</td>\n",
       "      <td>8.636214</td>\n",
       "      <td>-15.496222</td>\n",
       "      <td>10.313349</td>\n",
       "      <td>-4.351341</td>\n",
       "      <td>-3.322689</td>\n",
       "      <td>-10.788373</td>\n",
       "      <td>5.060381</td>\n",
       "      <td>-5.689311</td>\n",
       "      <td>-11.712187</td>\n",
       "      <td>...</td>\n",
       "      <td>1.434240</td>\n",
       "      <td>1.990545</td>\n",
       "      <td>0.223785</td>\n",
       "      <td>0.554408</td>\n",
       "      <td>-1.204042</td>\n",
       "      <td>-0.450685</td>\n",
       "      <td>0.641836</td>\n",
       "      <td>1.605958</td>\n",
       "      <td>0.001000</td>\n",
       "      <td>-1</td>\n",
       "    </tr>\n",
       "    <tr>\n",
       "      <th>...</th>\n",
       "      <td>...</td>\n",
       "      <td>...</td>\n",
       "      <td>...</td>\n",
       "      <td>...</td>\n",
       "      <td>...</td>\n",
       "      <td>...</td>\n",
       "      <td>...</td>\n",
       "      <td>...</td>\n",
       "      <td>...</td>\n",
       "      <td>...</td>\n",
       "      <td>...</td>\n",
       "      <td>...</td>\n",
       "      <td>...</td>\n",
       "      <td>...</td>\n",
       "      <td>...</td>\n",
       "      <td>...</td>\n",
       "      <td>...</td>\n",
       "      <td>...</td>\n",
       "      <td>...</td>\n",
       "      <td>...</td>\n",
       "      <td>...</td>\n",
       "    </tr>\n",
       "    <tr>\n",
       "      <th>224569</th>\n",
       "      <td>-41.928738</td>\n",
       "      <td>-40.803981</td>\n",
       "      <td>-22.588759</td>\n",
       "      <td>11.844703</td>\n",
       "      <td>-8.729597</td>\n",
       "      <td>3.281296</td>\n",
       "      <td>14.203189</td>\n",
       "      <td>-5.245286</td>\n",
       "      <td>4.874533</td>\n",
       "      <td>1.363213</td>\n",
       "      <td>...</td>\n",
       "      <td>-14.157629</td>\n",
       "      <td>-5.862383</td>\n",
       "      <td>-3.433164</td>\n",
       "      <td>-21.303666</td>\n",
       "      <td>1.321750</td>\n",
       "      <td>-4.084350</td>\n",
       "      <td>-0.601799</td>\n",
       "      <td>-2.787339</td>\n",
       "      <td>5.298322</td>\n",
       "      <td>-1</td>\n",
       "    </tr>\n",
       "    <tr>\n",
       "      <th>226683</th>\n",
       "      <td>-23.980491</td>\n",
       "      <td>-25.705566</td>\n",
       "      <td>-4.103049</td>\n",
       "      <td>4.689646</td>\n",
       "      <td>8.874881</td>\n",
       "      <td>-6.994424</td>\n",
       "      <td>0.012693</td>\n",
       "      <td>-2.584214</td>\n",
       "      <td>1.546412</td>\n",
       "      <td>3.039631</td>\n",
       "      <td>...</td>\n",
       "      <td>-15.620332</td>\n",
       "      <td>-5.785111</td>\n",
       "      <td>2.147142</td>\n",
       "      <td>10.198370</td>\n",
       "      <td>0.500574</td>\n",
       "      <td>4.808122</td>\n",
       "      <td>0.580877</td>\n",
       "      <td>2.230930</td>\n",
       "      <td>5.377595</td>\n",
       "      <td>-1</td>\n",
       "    </tr>\n",
       "    <tr>\n",
       "      <th>229859</th>\n",
       "      <td>-18.065915</td>\n",
       "      <td>-20.943103</td>\n",
       "      <td>-4.581048</td>\n",
       "      <td>4.438972</td>\n",
       "      <td>7.625662</td>\n",
       "      <td>-6.192213</td>\n",
       "      <td>-4.715975</td>\n",
       "      <td>-3.867424</td>\n",
       "      <td>3.612216</td>\n",
       "      <td>4.162776</td>\n",
       "      <td>...</td>\n",
       "      <td>-18.598172</td>\n",
       "      <td>-6.218399</td>\n",
       "      <td>-0.532113</td>\n",
       "      <td>-13.277950</td>\n",
       "      <td>1.603244</td>\n",
       "      <td>-4.541069</td>\n",
       "      <td>-0.301654</td>\n",
       "      <td>10.135597</td>\n",
       "      <td>7.896360</td>\n",
       "      <td>-1</td>\n",
       "    </tr>\n",
       "    <tr>\n",
       "      <th>231454</th>\n",
       "      <td>-35.905105</td>\n",
       "      <td>-31.041362</td>\n",
       "      <td>-19.472908</td>\n",
       "      <td>9.216960</td>\n",
       "      <td>-18.863553</td>\n",
       "      <td>10.713326</td>\n",
       "      <td>16.687265</td>\n",
       "      <td>-9.609234</td>\n",
       "      <td>3.296559</td>\n",
       "      <td>-1.368484</td>\n",
       "      <td>...</td>\n",
       "      <td>-21.964898</td>\n",
       "      <td>-2.661701</td>\n",
       "      <td>-3.016337</td>\n",
       "      <td>-19.331255</td>\n",
       "      <td>0.987774</td>\n",
       "      <td>-2.180899</td>\n",
       "      <td>-0.172480</td>\n",
       "      <td>6.228140</td>\n",
       "      <td>8.175537</td>\n",
       "      <td>-1</td>\n",
       "    </tr>\n",
       "    <tr>\n",
       "      <th>232014</th>\n",
       "      <td>-21.066749</td>\n",
       "      <td>-17.193065</td>\n",
       "      <td>-9.769594</td>\n",
       "      <td>4.931470</td>\n",
       "      <td>-4.639697</td>\n",
       "      <td>4.335207</td>\n",
       "      <td>8.470429</td>\n",
       "      <td>-3.498863</td>\n",
       "      <td>4.687859</td>\n",
       "      <td>3.929022</td>\n",
       "      <td>...</td>\n",
       "      <td>-17.118454</td>\n",
       "      <td>-6.245904</td>\n",
       "      <td>1.200548</td>\n",
       "      <td>1.967618</td>\n",
       "      <td>-0.058572</td>\n",
       "      <td>-1.108141</td>\n",
       "      <td>0.095102</td>\n",
       "      <td>-2.849451</td>\n",
       "      <td>7.091685</td>\n",
       "      <td>-1</td>\n",
       "    </tr>\n",
       "  </tbody>\n",
       "</table>\n",
       "<p>124 rows × 29 columns</p>\n",
       "</div>"
      ],
      "text/plain": [
       "               V1         V2         V3         V4         V5         V6  \\\n",
       "6812   -23.066842 -25.640527  -3.080313   4.866932   6.901397  -4.074335   \n",
       "8610   -27.670569 -34.607649   2.243079  10.463020  34.099309 -23.496714   \n",
       "9252    -5.454362   8.287421 -12.752811   8.594342  -3.106002  -3.179949   \n",
       "9487    -4.153014   8.204797 -15.031714  10.330100  -3.994426  -3.250013   \n",
       "9509    -4.710529   8.636214 -15.496222  10.313349  -4.351341  -3.322689   \n",
       "...           ...        ...        ...        ...        ...        ...   \n",
       "224569 -41.928738 -40.803981 -22.588759  11.844703  -8.729597   3.281296   \n",
       "226683 -23.980491 -25.705566  -4.103049   4.689646   8.874881  -6.994424   \n",
       "229859 -18.065915 -20.943103  -4.581048   4.438972   7.625662  -6.192213   \n",
       "231454 -35.905105 -31.041362 -19.472908   9.216960 -18.863553  10.713326   \n",
       "232014 -21.066749 -17.193065  -9.769594   4.931470  -4.639697   4.335207   \n",
       "\n",
       "               V7        V8        V9        V10  ...        V20       V21  \\\n",
       "6812     2.027345 -2.688652  3.402966   2.881873  ... -13.276034 -5.378106   \n",
       "8610   -26.548144 -0.779134  7.496577   6.605512  ... -12.834042 -4.651023   \n",
       "9252    -9.252794  4.245062 -6.329801 -13.136698  ...   1.305862  1.846165   \n",
       "9487   -10.415698  4.620804 -5.711248 -11.797181  ...   1.412625  1.976988   \n",
       "9509   -10.788373  5.060381 -5.689311 -11.712187  ...   1.434240  1.990545   \n",
       "...           ...       ...       ...        ...  ...        ...       ...   \n",
       "224569  14.203189 -5.245286  4.874533   1.363213  ... -14.157629 -5.862383   \n",
       "226683   0.012693 -2.584214  1.546412   3.039631  ... -15.620332 -5.785111   \n",
       "229859  -4.715975 -3.867424  3.612216   4.162776  ... -18.598172 -6.218399   \n",
       "231454  16.687265 -9.609234  3.296559  -1.368484  ... -21.964898 -2.661701   \n",
       "232014   8.470429 -3.498863  4.687859   3.929022  ... -17.118454 -6.245904   \n",
       "\n",
       "             V22        V23       V24       V25       V26        V27  \\\n",
       "6812    3.312971  13.876221 -0.572177  5.525093  0.906980   3.358822   \n",
       "8610   -1.627883 -11.669994  2.192626 -2.483069  1.788189   8.254376   \n",
       "9252   -0.267172  -0.310804 -1.201685  1.352176  0.608425   1.574715   \n",
       "9487    0.256510   0.485908 -1.198821 -0.526567  0.634874   1.627209   \n",
       "9509    0.223785   0.554408 -1.204042 -0.450685  0.641836   1.605958   \n",
       "...          ...        ...       ...       ...       ...        ...   \n",
       "224569 -3.433164 -21.303666  1.321750 -4.084350 -0.601799  -2.787339   \n",
       "226683  2.147142  10.198370  0.500574  4.808122  0.580877   2.230930   \n",
       "229859 -0.532113 -13.277950  1.603244 -4.541069 -0.301654  10.135597   \n",
       "231454 -3.016337 -19.331255  0.987774 -2.180899 -0.172480   6.228140   \n",
       "232014  1.200548   1.967618 -0.058572 -1.108141  0.095102  -2.849451   \n",
       "\n",
       "        Log amount  anomaly  \n",
       "6812      6.740201       -1  \n",
       "8610      4.011886       -1  \n",
       "9252      0.001000       -1  \n",
       "9487      0.001000       -1  \n",
       "9509      0.001000       -1  \n",
       "...            ...      ...  \n",
       "224569    5.298322       -1  \n",
       "226683    5.377595       -1  \n",
       "229859    7.896360       -1  \n",
       "231454    8.175537       -1  \n",
       "232014    7.091685       -1  \n",
       "\n",
       "[124 rows x 29 columns]"
      ]
     },
     "execution_count": 7,
     "metadata": {},
     "output_type": "execute_result"
    }
   ],
   "source": [
    "outliers"
   ]
  },
  {
   "cell_type": "code",
   "execution_count": 8,
   "metadata": {},
   "outputs": [
    {
     "data": {
      "image/png": "[encoded data removed]",
      "text/plain": [
       "<Figure size 432x288 with 1 Axes>"
      ]
     },
     "metadata": {
      "needs_background": "light"
     },
     "output_type": "display_data"
    }
   ],
   "source": [
    "import matplotlib.pyplot as plt\n",
    "from sklearn.decomposition import PCA\n",
    "from sklearn.preprocessing import StandardScaler\n",
    "from mpl_toolkits.mplot3d import Axes3D\n",
    "pca = PCA(n_components=3) \n",
    "scaler = StandardScaler()\n",
    "#normalize the metrics\n",
    "X = scaler.fit_transform(X_data)\n",
    "X_reduce = pca.fit_transform(X)\n",
    "fig = plt.figure()\n",
    "ax = fig.add_subplot(111, projection='3d')\n",
    "ax.set_zlabel(\"x_composite_3\")\n",
    "# Plot the compressed data points\n",
    "ax.scatter(X_reduce[:, 0], X_reduce[:, 1], zs=X_reduce[:, 2], s=4, lw=1, label=\"inliers\",c=\"green\")\n",
    "# Plot x's for the ground truth outliers\n",
    "ax.scatter(X_reduce[outlier_index,0],X_reduce[outlier_index,1], X_reduce[outlier_index,2],\n",
    "           lw=2, s=60, marker=\"x\", c=\"red\", label=\"outliers\")\n",
    "ax.legend()\n",
    "plt.show()\n"
   ]
  },
  {
   "cell_type": "code",
   "execution_count": 9,
   "metadata": {},
   "outputs": [
    {
     "data": {
      "image/png": "[encoded data removed]",
      "text/plain": [
       "<Figure size 432x288 with 1 Axes>"
      ]
     },
     "metadata": {
      "needs_background": "light"
     },
     "output_type": "display_data"
    }
   ],
   "source": [
    "import numpy as np\n",
    "from sklearn.decomposition import PCA\n",
    "pca = PCA(2)\n",
    "pca.fit(X_data)\n",
    "res=pd.DataFrame(pca.transform(X_data))\n",
    "Z = np.array(res)\n",
    "plt.title(\"IsolationForest\")\n",
    "# plt.contourf( Z, cmap=plt.cm.Blues_r)\n",
    "b1 = plt.scatter(res[0], res[1], c='green',\n",
    "                 s=20,label=\"normal points\")\n",
    "b1 =plt.scatter(res.iloc[outlier_index,0],res.iloc[outlier_index,1], c='green',s=20,  edgecolor=\"red\",label=\"predicted outliers\")\n",
    "plt.legend(loc=\"upper right\")\n",
    "plt.show()"
   ]
  },
  {
   "cell_type": "code",
   "execution_count": 10,
   "metadata": {},
   "outputs": [],
   "source": [
    "X_data=np.array(X_data)\n",
    "Y_data=np.array(Y_data)"
   ]
  },
  {
   "cell_type": "code",
   "execution_count": 11,
   "metadata": {},
   "outputs": [],
   "source": [
    "X_data=np.delete(X_data,outlier_index,axis=0)\n",
    "Y_data=np.delete(Y_data,outlier_index,axis=0)"
   ]
  },
  {
   "cell_type": "code",
   "execution_count": 12,
   "metadata": {},
   "outputs": [],
   "source": [
    "# scaler = StandardScaler()\n",
    "# X_data = scaler.fit_transform(X_data)"
   ]
  },
  {
   "cell_type": "code",
   "execution_count": 13,
   "metadata": {},
   "outputs": [
    {
     "name": "stdout",
     "output_type": "stream",
     "text": [
      "(247178,) (247178, 28)\n"
     ]
    }
   ],
   "source": [
    "print(Y_data.shape, X_data.shape)"
   ]
  },
  {
   "cell_type": "code",
   "execution_count": 14,
   "metadata": {},
   "outputs": [],
   "source": [
    "from sklearn.ensemble import RandomForestClassifier"
   ]
  },
  {
   "cell_type": "code",
   "execution_count": 15,
   "metadata": {},
   "outputs": [],
   "source": [
    "# from sklearn.model_selection import GridSearchCV\n",
    "\n",
    "# params = { 'n_estimators' : [10, 100],\n",
    "#            'max_depth' : [6, 8, 10, 12],\n",
    "#            'min_samples_leaf' : [8, 12, 18],\n",
    "#            'min_samples_split' : [8, 16, 20]\n",
    "#             }\n",
    "\n",
    "# # RandomForestClassifier 객체 생성 후 GridSearchCV 수행\n",
    "# rf_clf = RandomForestClassifier(random_state = 0, n_jobs = -1)\n",
    "# grid_cv = GridSearchCV(rf_clf, param_grid = params, cv = 3, n_jobs = -1)\n",
    "# grid_cv.fit(X_data, Y_data)\n",
    "\n",
    "# print('최적 하이퍼 파라미터: ', grid_cv.best_params_)\n",
    "# print('최고 예측 정확도: {:.4f}'.format(grid_cv.best_score_))"
   ]
  },
  {
   "cell_type": "code",
   "execution_count": 16,
   "metadata": {},
   "outputs": [],
   "source": [
    "rf= RandomForestClassifier(n_estimators = 100, \n",
    "                                max_depth = 10,\n",
    "                                min_samples_leaf = 8,\n",
    "                                min_samples_split = 8,\n",
    "                                random_state = 0,\n",
    "                                n_jobs = -1)"
   ]
  },
  {
   "cell_type": "code",
   "execution_count": 17,
   "metadata": {},
   "outputs": [],
   "source": [
    "from sklearn.model_selection import StratifiedKFold\n",
    "from imblearn.over_sampling import SMOTE\n",
    "from sklearn.model_selection import train_test_split\n",
    "from sklearn.metrics import classification_report, accuracy_score,precision_score,recall_score,f1_score,roc_auc_score\n",
    "from sklearn.metrics import confusion_matrix\n",
    "import seaborn as sns"
   ]
  },
  {
   "cell_type": "code",
   "execution_count": 18,
   "metadata": {},
   "outputs": [],
   "source": [
    "X_train_val, X_test, Y_train_val, Y_test = train_test_split(X_data,Y_data, test_size=0.1, random_state=777, stratify=Y_data)"
   ]
  },
  {
   "cell_type": "code",
   "execution_count": 19,
   "metadata": {},
   "outputs": [],
   "source": [
    "skf = StratifiedKFold(n_splits=10)\n",
    "k=10"
   ]
  },
  {
   "cell_type": "code",
   "execution_count": 20,
   "metadata": {},
   "outputs": [
    {
     "name": "stdout",
     "output_type": "stream",
     "text": [
      "1 번째 cross validation\n",
      "2 번째 cross validation\n",
      "3 번째 cross validation\n",
      "4 번째 cross validation\n",
      "5 번째 cross validation\n",
      "6 번째 cross validation\n",
      "7 번째 cross validation\n",
      "8 번째 cross validation\n",
      "9 번째 cross validation\n",
      "10 번째 cross validation\n"
     ]
    }
   ],
   "source": [
    "result_Y_val=[]\n",
    "result_Y_val_pred=[]\n",
    "model =  rf\n",
    "\n",
    "i=0\n",
    "for train_index,val_index in skf.split(X_train_val,Y_train_val):\n",
    "    i=i+1\n",
    "    print(str(i),\"번째 cross validation\")\n",
    "    X_train = X_train_val[train_index]\n",
    "    Y_train = Y_train_val[train_index]  \n",
    "    X_val = X_train_val[val_index]\n",
    "    Y_val = Y_train_val[val_index]\n",
    "    \n",
    "    sm = SMOTE()\n",
    "    X_train_oversampled, Y_train_oversampled = sm.fit_sample(X_train, Y_train)\n",
    "    model.fit(X_train_oversampled, Y_train_oversampled)\n",
    "\n",
    "    Y_val_pred = rf.predict(X_val)\n",
    "    result_Y_val.append(Y_val)\n",
    "    result_Y_val_pred.append(Y_val_pred)\n",
    "\n"
   ]
  },
  {
   "cell_type": "code",
   "execution_count": 21,
   "metadata": {},
   "outputs": [],
   "source": [
    "Y_pred=model.predict(X_test)"
   ]
  },
  {
   "cell_type": "code",
   "execution_count": 22,
   "metadata": {},
   "outputs": [],
   "source": [
    "def evaluation(Y_test,y_pred):\n",
    "    acc= accuracy_score(Y_test,y_pred)\n",
    "    print(\"accuracy : {}\".format(acc))\n",
    "    prec= precision_score(Y_test,y_pred)\n",
    "    print(\"precision : {}\".format(prec))\n",
    "    rec= recall_score(Y_test,y_pred)\n",
    "    print(\"recall: {}\".format(rec))\n",
    "    f1= f1_score(Y_test,y_pred)\n",
    "    print(\"F1-Score : {}\".format(f1))\n",
    "    auc_score=roc_auc_score(Y_test,y_pred)\n",
    "    print(\"auc_score: {}\".format(auc_score))\n",
    "    "
   ]
  },
  {
   "cell_type": "code",
   "execution_count": 23,
   "metadata": {},
   "outputs": [
    {
     "name": "stdout",
     "output_type": "stream",
     "text": [
      "1 번째 cross validation\n",
      "accuracy : 0.9984266834487099\n",
      "precision : 0.4915254237288136\n",
      "recall: 0.8529411764705882\n",
      "F1-Score : 0.6236559139784946\n",
      "auc_score: 0.9257952775923984\n",
      "\n",
      "\n",
      "2 번째 cross validation\n",
      "accuracy : 0.9981569720399173\n",
      "precision : 0.4507042253521127\n",
      "recall: 0.9411764705882353\n",
      "F1-Score : 0.6095238095238095\n",
      "auc_score: 0.9697103314583532\n",
      "\n",
      "\n",
      "3 번째 cross validation\n",
      "accuracy : 0.9981120201384519\n",
      "precision : 0.43548387096774194\n",
      "recall: 0.7941176470588235\n",
      "F1-Score : 0.5625\n",
      "auc_score: 0.8962709611127\n",
      "\n",
      "\n",
      "4 번째 cross validation\n",
      "accuracy : 0.997707453025263\n",
      "precision : 0.38666666666666666\n",
      "recall: 0.8529411764705882\n",
      "F1-Score : 0.5321100917431193\n",
      "auc_score: 0.9254351119161873\n",
      "\n",
      "\n",
      "5 번째 cross validation\n",
      "accuracy : 0.9981120201384519\n",
      "precision : 0.43333333333333335\n",
      "recall: 0.7647058823529411\n",
      "F1-Score : 0.5531914893617021\n",
      "auc_score: 0.8815875891145221\n",
      "\n",
      "\n",
      "6 번째 cross validation\n",
      "accuracy : 0.9982468758428481\n",
      "precision : 0.4576271186440678\n",
      "recall: 0.7941176470588235\n",
      "F1-Score : 0.5806451612903226\n",
      "auc_score: 0.8963384921769896\n",
      "\n",
      "\n",
      "7 번째 cross validation\n",
      "accuracy : 0.9976625011237975\n",
      "precision : 0.3815789473684211\n",
      "recall: 0.8529411764705882\n",
      "F1-Score : 0.5272727272727272\n",
      "auc_score: 0.9254126015614242\n",
      "\n",
      "\n",
      "8 번째 cross validation\n",
      "accuracy : 0.9981569720399173\n",
      "precision : 0.4406779661016949\n",
      "recall: 0.7647058823529411\n",
      "F1-Score : 0.5591397849462365\n",
      "auc_score: 0.8816100994692853\n",
      "\n",
      "\n",
      "9 번째 cross validation\n",
      "accuracy : 0.9977973568281938\n",
      "precision : 0.4025974025974026\n",
      "recall: 0.9117647058823529\n",
      "F1-Score : 0.5585585585585586\n",
      "auc_score: 0.9548468766220697\n",
      "\n",
      "\n",
      "10 번째 cross validation\n",
      "accuracy : 0.998336779645779\n",
      "precision : 0.47619047619047616\n",
      "recall: 0.8823529411764706\n",
      "F1-Score : 0.6185567010309277\n",
      "auc_score: 0.94043362888105\n",
      "\n",
      "\n"
     ]
    }
   ],
   "source": [
    "for i in range(k):\n",
    "    print(\"{} 번째 cross validation\".format(i+1))\n",
    "    evaluation(result_Y_val[i],result_Y_val_pred[i])\n",
    "    print(\"\\n\")"
   ]
  },
  {
   "cell_type": "code",
   "execution_count": 24,
   "metadata": {},
   "outputs": [
    {
     "name": "stdout",
     "output_type": "stream",
     "text": [
      "accuracy : 0.9975321627963427\n",
      "precision : 0.3614457831325301\n",
      "recall: 0.7894736842105263\n",
      "F1-Score : 0.49586776859504134\n",
      "auc_score: 0.893663098183059\n"
     ]
    }
   ],
   "source": [
    "evaluation(Y_test,Y_pred)"
   ]
  },
  {
   "cell_type": "code",
   "execution_count": 25,
   "metadata": {},
   "outputs": [
    {
     "data": {
      "image/png": "[encoded data removed]",
      "text/plain": [
       "<Figure size 648x648 with 2 Axes>"
      ]
     },
     "metadata": {
      "needs_background": "light"
     },
     "output_type": "display_data"
    }
   ],
   "source": [
    "LABELS = ['Normal', 'Fraud']\n",
    "conf_matrix = confusion_matrix(Y_test, Y_pred)\n",
    "plt.figure(figsize=(9, 9))\n",
    "sns.heatmap(conf_matrix, xticklabels=LABELS, yticklabels=LABELS, annot=True, fmt=\"d\");\n",
    "plt.title(\"Confusion matrix\")\n",
    "plt.ylabel('True class')\n",
    "plt.xlabel('Predicted class')\n",
    "plt.show()\n"
   ]
  },
  {
   "cell_type": "raw",
   "metadata": {},
   "source": []
  },
  {
   "cell_type": "code",
   "execution_count": null,
   "metadata": {},
   "outputs": [],
   "source": []
  },
  {
   "cell_type": "code",
   "execution_count": null,
   "metadata": {},
   "outputs": [],
   "source": []
  },
  {
   "cell_type": "code",
   "execution_count": null,
   "metadata": {},
   "outputs": [],
   "source": []
  }
 ],
 "metadata": {
  "kernelspec": {
   "display_name": "test",
   "language": "python",
   "name": "test"
  },
  "language_info": {
   "codemirror_mode": {
    "name": "ipython",
    "version": 3
   },
   "file_extension": ".py",
   "mimetype": "text/x-python",
   "name": "python",
   "nbconvert_exporter": "python",
   "pygments_lexer": "ipython3",
   "version": "3.7.9"
  }
 },
 "nbformat": 4,
 "nbformat_minor": 4
}
