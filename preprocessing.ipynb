{
 "cells": [
  {
   "cell_type": "code",
   "execution_count": 1,
   "metadata": {},
   "outputs": [],
   "source": [
    "import tensorflow as tf\n",
    "import numpy as np\n",
    "import pandas as pd\n",
    "import matplotlib.pyplot as plt"
   ]
  },
  {
   "cell_type": "markdown",
   "metadata": {},
   "source": [
    "<h2>데이터 확인 및 분포 </h2>"
   ]
  },
  {
   "cell_type": "code",
   "execution_count": 2,
   "metadata": {},
   "outputs": [],
   "source": [
    "data=pd.read_csv('creditcard.csv',error_bad_lines=False)"
   ]
  },
  {
   "cell_type": "code",
   "execution_count": 3,
   "metadata": {},
   "outputs": [],
   "source": [
    "df=pd.DataFrame(data)\n",
    "df=df.dropna(axis=0)\n",
    "df=df.drop(['Time'],axis=1)"
   ]
  },
  {
   "cell_type": "code",
   "execution_count": 4,
   "metadata": {},
   "outputs": [],
   "source": [
    "normal=df[df['Class']==0]\n",
    "Fraud=df[df['Class']==1]"
   ]
  },
  {
   "cell_type": "code",
   "execution_count": 5,
   "metadata": {},
   "outputs": [
    {
     "name": "stdout",
     "output_type": "stream",
     "text": [
      "전체 데이터의 분포 \n",
      " 전체거래 : 247302\n",
      " 정상거래 : 246853\n",
      " 이상거래 : 449\n",
      "\n",
      "정상거래의 비율 : 99.82\n",
      "이상거래의 비율 : 0.18\n",
      "\n"
     ]
    }
   ],
   "source": [
    "if __name__==\"__main__\":\n",
    "    print(\"전체 데이터의 분포 \\n 전체거래 : {}\\n 정상거래 : {}\\n 이상거래 : {}\\n\".format(len(df),len(normal),len(Fraud)))\n",
    "    print(\"정상거래의 비율 : {:.2f}\\n이상거래의 비율 : {:.2f}\\n\".format(len(normal)/len(df)*100,len(Fraud)/len(df)*100))"
   ]
  },
  {
   "cell_type": "code",
   "execution_count": 6,
   "metadata": {},
   "outputs": [],
   "source": [
    "eps=0.001 \n",
    "df['Log Ammount'] = np.log(df.pop('Amount')+eps)"
   ]
  },
  {
   "cell_type": "markdown",
   "metadata": {},
   "source": [
    "<h2> 데이터 나누기, Scaler 적용</h2>"
   ]
  },
  {
   "cell_type": "code",
   "execution_count": 7,
   "metadata": {},
   "outputs": [],
   "source": [
    "X_data=df.iloc[:,:27]\n",
    "X_data['Log amount']=df.iloc[:,29]\n",
    "Y_data=df.iloc[:,28]"
   ]
  },
  {
   "cell_type": "code",
   "execution_count": 8,
   "metadata": {},
   "outputs": [],
   "source": [
    "from sklearn.preprocessing import StandardScaler"
   ]
  },
  {
   "cell_type": "code",
   "execution_count": 9,
   "metadata": {},
   "outputs": [],
   "source": [
    "scaler = StandardScaler()\n",
    "X_data_scaler = scaler.fit_transform(X_data)"
   ]
  },
  {
   "cell_type": "code",
   "execution_count": 10,
   "metadata": {},
   "outputs": [
    {
     "data": {
      "text/plain": [
       "array([[-0.672359  , -0.03199051,  1.61171643, ..., -0.3929785 ,\n",
       "         0.33425052,  0.99840897],\n",
       "       [ 0.62873376,  0.17083095,  0.03876276, ...,  0.2555381 ,\n",
       "        -0.02013977, -0.97769571],\n",
       "       [-0.67161808, -0.79040911,  1.10519857, ..., -0.29000481,\n",
       "        -0.1354253 ,  1.45505313],\n",
       "       ...,\n",
       "       [-0.32140657, -0.08611243,  1.28956338, ..., -0.57129207,\n",
       "         1.32402293, -0.36671763],\n",
       "       [ 0.06192216,  0.55884661, -0.83159987, ..., -0.31033056,\n",
       "        -0.24123468,  0.72177466],\n",
       "       [ 0.03617316,  0.41760455, -0.0158109 , ...,  0.31739463,\n",
       "         0.57984   , -1.46897056]])"
      ]
     },
     "execution_count": 10,
     "metadata": {},
     "output_type": "execute_result"
    }
   ],
   "source": [
    "X_data_scaler"
   ]
  },
  {
   "cell_type": "code",
   "execution_count": 11,
   "metadata": {},
   "outputs": [
    {
     "data": {
      "text/plain": [
       "0         0.0\n",
       "1         0.0\n",
       "2         0.0\n",
       "3         0.0\n",
       "4         0.0\n",
       "         ... \n",
       "247297    0.0\n",
       "247298    0.0\n",
       "247299    0.0\n",
       "247300    0.0\n",
       "247301    0.0\n",
       "Name: Class, Length: 247302, dtype: float64"
      ]
     },
     "execution_count": 11,
     "metadata": {},
     "output_type": "execute_result"
    }
   ],
   "source": [
    "Y_data"
   ]
  }
 ],
 "metadata": {
  "kernelspec": {
   "display_name": "test",
   "language": "python",
   "name": "test"
  },
  "language_info": {
   "codemirror_mode": {
    "name": "ipython",
    "version": 3
   },
   "file_extension": ".py",
   "mimetype": "text/x-python",
   "name": "python",
   "nbconvert_exporter": "python",
   "pygments_lexer": "ipython3",
   "version": "3.7.9"
  }
 },
 "nbformat": 4,
 "nbformat_minor": 4
}
